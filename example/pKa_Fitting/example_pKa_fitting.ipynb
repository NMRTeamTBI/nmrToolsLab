{
 "cells": [
  {
   "cell_type": "markdown",
   "metadata": {},
   "source": [
    "# Usage of pKA_fitting in the nmrToolsLab package"
   ]
  },
  {
   "attachments": {},
   "cell_type": "markdown",
   "metadata": {},
   "source": [
    "## 1. General Information\n",
    "This notebook showcases the use of the pKa_fitting tool to analyze pH titration on protein.\n",
    "The NMR data have first been treated with Sparky and peak list have been extracted "
   ]
  },
  {
   "attachments": {},
   "cell_type": "markdown",
   "metadata": {},
   "source": [
    "## 2. Prepare Script\n",
    "Load prot_analysis."
   ]
  },
  {
   "cell_type": "code",
   "execution_count": 1,
   "metadata": {},
   "outputs": [],
   "source": [
    "import c_py_mod.prot_analysis as prot_analysis"
   ]
  },
  {
   "attachments": {},
   "cell_type": "markdown",
   "metadata": {},
   "source": [
    "## 3. Load peak lists\n",
    "Provide all imput data (peak lists) in a dictionnary format."
   ]
  },
  {
   "cell_type": "code",
   "execution_count": 2,
   "metadata": {},
   "outputs": [],
   "source": [
    "d_experiment_ICCG_N246E_wt_His = {\n",
    "    \"His_CeHe_pH3.5\":{\"path\":'./Lists', \"exp\":'His_pH3_5',  \"peak_label\": 'C-H', \"pH\" : 3.5, \"color\": \"dodgerblue\"},\n",
    "    \"His_CeHe_pH4.0\":{\"path\":'./Lists', \"exp\":'His_pH4',    \"peak_label\": 'C-H', \"pH\" : 4.0, \"color\": \"blue\"},\n",
    "    \"His_CeHe_pH4.5\":{\"path\":'./Lists', \"exp\":'His_pH4_5',  \"peak_label\": 'C-H', \"pH\" : 4.5, \"color\": \"red\"},\n",
    "    \"His_CeHe_pH5.0\":{\"path\":'./Lists', \"exp\":'His_pH5',    \"peak_label\": 'C-H', \"pH\" : 5.0, \"color\": \"orange\"},\n",
    "    \"His_CeHe_pH5.5\":{\"path\":'./Lists', \"exp\":'His_pH5_5',  \"peak_label\": 'C-H', \"pH\" : 5.5, \"color\": \"green\"},\n",
    "    \"His_CeHe_pH6.0\":{\"path\":'./Lists', \"exp\":'His_pH6',    \"peak_label\": 'C-H', \"pH\" : 6.0, \"color\": \"gray\"},\n",
    "    \"His_CeHe_pH7.0\":{\"path\":'./Lists', \"exp\":'His_pH7',    \"peak_label\": 'C-H', \"pH\" : 7.0, \"color\": \"orchid\"},\n",
    "    \"His_CeHe_pH8.0\":{\"path\":'./Lists', \"exp\":'His_pH8',    \"peak_label\": 'C-H', \"pH\" : 8.0, \"color\": \"black\"},\n",
    "    }"
   ]
  },
  {
   "attachments": {},
   "cell_type": "markdown",
   "metadata": {},
   "source": [
    "Load imput data "
   ]
  },
  {
   "cell_type": "code",
   "execution_count": 3,
   "metadata": {},
   "outputs": [],
   "source": [
    "pH_series_His = prot_analysis.data_consolidation(\n",
    "    d_experiment_ICCG_N246E_wt_His,\n",
    "    '2D',\n",
    "    'pH')"
   ]
  },
  {
   "attachments": {},
   "cell_type": "markdown",
   "metadata": {},
   "source": [
    "Look at the consolidated data"
   ]
  },
  {
   "cell_type": "code",
   "execution_count": 4,
   "metadata": {},
   "outputs": [
    {
     "name": "stdout",
     "output_type": "stream",
     "text": [
      "    ass   pH nucleus    shift res_type\n",
      "0   291  3.5       C  140.785        H\n",
      "1   291  3.5       H    8.491        H\n",
      "2   291  4.0       C  140.786        H\n",
      "3   291  4.0       H    8.482        H\n",
      "4   291  4.5       C  140.790        H\n",
      "..  ...  ...     ...      ...      ...\n",
      "91  191  6.0       H    7.998        H\n",
      "92  191  7.0       C  140.324        H\n",
      "93  191  7.0       H    7.996        H\n",
      "94  191  8.0       C  140.318        H\n",
      "95  191  8.0       H    7.998        H\n",
      "\n",
      "[96 rows x 5 columns]\n"
     ]
    }
   ],
   "source": [
    "print(pH_series_His.consolidated_data)"
   ]
  },
  {
   "attachments": {},
   "cell_type": "markdown",
   "metadata": {},
   "source": [
    "## 4. Fitting examples\n",
    "### 4.1. one residue, one nucleus, one pKa \n",
    "\n",
    "Set details for the fitting with imput as: \n",
    "\n",
    "* the consolidated data\n",
    "* List of residue(s)\n",
    "* List of nucleus (nuclei)\n",
    "* model: \"1\" or \"2\" for fitting the model with 1 or 2 pKa values"
   ]
  },
  {
   "cell_type": "code",
   "execution_count": 38,
   "metadata": {},
   "outputs": [],
   "source": [
    "demo_1 = prot_analysis.pKA_fitting(\n",
    "    pH_series_His.consolidated_data,\n",
    "    [164],\n",
    "    nuclei = ['H'],\n",
    "    model = 1,\n",
    "    # new_params={'pKa_1':{'ini':4.5,'lb':4,'ub':5},'pKa_2':{'ini':5.5,'lb':5,'ub':6}}\n",
    "    )"
   ]
  },
  {
   "attachments": {},
   "cell_type": "markdown",
   "metadata": {},
   "source": [
    "Show the data that are included in the fitting"
   ]
  },
  {
   "cell_type": "code",
   "execution_count": 39,
   "metadata": {},
   "outputs": [
    {
     "name": "stdout",
     "output_type": "stream",
     "text": [
      "   ass   pH nucleus  shift res_type\n",
      "0  164  3.5       H  7.495        H\n",
      "1  164  4.0       H  7.495        H\n",
      "2  164  4.5       H  7.532        H\n",
      "3  164  5.0       H  7.604        H\n",
      "4  164  5.5       H  7.712        H\n",
      "5  164  6.0       H  7.826        H\n",
      "6  164  7.0       H  7.944        H\n",
      "7  164  8.0       H  7.967        H\n"
     ]
    }
   ],
   "source": [
    "print(demo_1.selected_data)"
   ]
  },
  {
   "attachments": {},
   "cell_type": "markdown",
   "metadata": {},
   "source": [
    "Run the fitting procedure"
   ]
  },
  {
   "cell_type": "code",
   "execution_count": 40,
   "metadata": {},
   "outputs": [],
   "source": [
    "demo_1.fit()"
   ]
  },
  {
   "attachments": {},
   "cell_type": "markdown",
   "metadata": {},
   "source": [
    "Display fitting parameters"
   ]
  },
  {
   "cell_type": "code",
   "execution_count": 52,
   "metadata": {},
   "outputs": [
    {
     "name": "stdout",
     "output_type": "stream",
     "text": [
      "      par par_type  ass nucleus  ini  lb  ub  model_idx  par_idx       opt  \\\n",
      "0     pKa      pKa                 4   2  10          0        0  5.559082   \n",
      "1   d_low    shift  164       H    7   2  12          1        1  7.491268   \n",
      "2  d_high    shift  164       H    7   2  12          2        2  7.962087   \n",
      "\n",
      "     opt_sd  \n",
      "0  0.000109  \n",
      "1  0.000024  \n",
      "2  0.000020  \n"
     ]
    }
   ],
   "source": [
    "print(demo_1.params)"
   ]
  },
  {
   "attachments": {},
   "cell_type": "markdown",
   "metadata": {},
   "source": [
    "Display plot. "
   ]
  },
  {
   "cell_type": "code",
   "execution_count": 54,
   "metadata": {},
   "outputs": [
    {
     "data": {
      "application/vnd.plotly.v1+json": {
       "config": {
        "plotlyServerURL": "https://plot.ly"
       },
       "data": [
        {
         "marker": {
          "color": "#EF553B"
         },
         "mode": "markers",
         "type": "scatter",
         "x": [
          3.5,
          4,
          4.5,
          5,
          5.5,
          6,
          7,
          8
         ],
         "xaxis": "x",
         "y": [
          7.495,
          7.495,
          7.532,
          7.604,
          7.712,
          7.826,
          7.944,
          7.967
         ],
         "yaxis": "y"
        },
        {
         "marker": {
          "color": "#EF553B"
         },
         "mode": "lines",
         "name": "best fit",
         "type": "scatter",
         "x": [
          3.3,
          3.3494949494949493,
          3.398989898989899,
          3.4484848484848483,
          3.4979797979797977,
          3.5474747474747472,
          3.5969696969696967,
          3.646464646464646,
          3.6959595959595957,
          3.745454545454545,
          3.7949494949494946,
          3.844444444444444,
          3.8939393939393936,
          3.943434343434343,
          3.9929292929292926,
          4.042424242424242,
          4.0919191919191915,
          4.141414141414141,
          4.1909090909090905,
          4.24040404040404,
          4.289898989898989,
          4.339393939393939,
          4.388888888888888,
          4.438383838383838,
          4.487878787878787,
          4.537373737373737,
          4.586868686868686,
          4.636363636363636,
          4.685858585858585,
          4.735353535353535,
          4.784848484848484,
          4.834343434343434,
          4.883838383838383,
          4.933333333333333,
          4.982828282828282,
          5.032323232323232,
          5.081818181818181,
          5.131313131313131,
          5.18080808080808,
          5.23030303030303,
          5.279797979797979,
          5.329292929292929,
          5.378787878787879,
          5.428282828282828,
          5.477777777777778,
          5.527272727272727,
          5.576767676767677,
          5.626262626262626,
          5.675757575757576,
          5.725252525252525,
          5.774747474747475,
          5.824242424242424,
          5.873737373737374,
          5.923232323232323,
          5.972727272727273,
          6.022222222222222,
          6.071717171717172,
          6.121212121212121,
          6.170707070707071,
          6.22020202020202,
          6.2696969696969695,
          6.319191919191919,
          6.3686868686868685,
          6.418181818181818,
          6.4676767676767675,
          6.517171717171717,
          6.566666666666666,
          6.616161616161616,
          6.665656565656565,
          6.715151515151515,
          6.764646464646464,
          6.814141414141414,
          6.863636363636363,
          6.913131313131313,
          6.962626262626262,
          7.012121212121212,
          7.061616161616161,
          7.111111111111111,
          7.16060606060606,
          7.21010101010101,
          7.259595959595959,
          7.309090909090909,
          7.358585858585858,
          7.408080808080808,
          7.457575757575757,
          7.507070707070707,
          7.556565656565656,
          7.6060606060606055,
          7.655555555555555,
          7.7050505050505045,
          7.754545454545454,
          7.8040404040404034,
          7.853535353535353,
          7.903030303030302,
          7.952525252525252,
          8.002020202020201,
          8.05151515151515,
          8.1010101010101,
          8.15050505050505,
          8.2
         ],
         "xaxis": "x",
         "y": [
          7.493846579903377,
          7.494155946898393,
          7.494502173503627,
          7.494889586289988,
          7.495323003189115,
          7.495807785112252,
          7.496349891917844,
          7.496955942805519,
          7.497633281122463,
          7.4983900434447825,
          7.499235232634018,
          7.500178794359233,
          7.501231696308749,
          7.502406008982478,
          7.503714986544977,
          7.5051731457204385,
          7.506796340113455,
          7.508601826636261,
          7.510608319910037,
          7.512836029587602,
          7.515306674529264,
          7.518043466678535,
          7.521071056373592,
          7.524415429761236,
          7.528103748049058,
          7.532164117669034,
          7.536625280199286,
          7.5415162113049,
          7.546865619249564,
          7.5527013359511095,
          7.559049597353658,
          7.56593421527153,
          7.5733756499370815,
          7.581390001213839,
          7.589987946554139,
          7.599173664741743,
          7.608943795397146,
          7.6192864939491995,
          7.630180648846984,
          7.641595330639944,
          7.653489539733916,
          7.665812310060208,
          7.6785032091789285,
          7.691493252013941,
          7.704706217086216,
          7.718060323385555,
          7.731470196243213,
          7.744849025349088,
          7.758110800676585,
          7.7711725048985025,
          7.783956144896199,
          7.796390519621801,
          7.8084126448600575,
          7.8199687842782275,
          7.831015066971281,
          7.841517701029287,
          7.851452817616687,
          7.860805998754882,
          7.869571553605498,
          7.877751612712875,
          7.885355108291883,
          7.892396702620599,
          7.898895717473624,
          7.904875106806096,
          7.910360503841194,
          7.915379363286167,
          7.919960210238342,
          7.924131999781369,
          7.927923585411801,
          7.931363290202709,
          7.934478571820558,
          7.937295770924268,
          7.9398399318362864,
          7.942134684441512,
          7.944202176826758,
          7.946063049042722,
          7.947736439411379,
          7.949240015908691,
          7.950590026250349,
          7.951801361346939,
          7.9528876277441425,
          7.953861225507871,
          7.954733428748604,
          7.9555144666060675,
          7.956213603041493,
          7.956839214219544,
          7.957398862616204,
          7.95789936727325,
          7.958346869844839,
          7.958746896256759,
          7.959104413932684,
          7.959423884641794,
          7.959709313094926,
          7.959964291467454,
          7.96019204006096,
          7.960395444336327,
          7.960577088561086,
          7.960739286316451,
          7.9608841081062724,
          7.961013406302881
         ],
         "yaxis": "y"
        }
       ],
       "layout": {
        "template": {
         "data": {
          "bar": [
           {
            "error_x": {
             "color": "#2a3f5f"
            },
            "error_y": {
             "color": "#2a3f5f"
            },
            "marker": {
             "line": {
              "color": "#E5ECF6",
              "width": 0.5
             },
             "pattern": {
              "fillmode": "overlay",
              "size": 10,
              "solidity": 0.2
             }
            },
            "type": "bar"
           }
          ],
          "barpolar": [
           {
            "marker": {
             "line": {
              "color": "#E5ECF6",
              "width": 0.5
             },
             "pattern": {
              "fillmode": "overlay",
              "size": 10,
              "solidity": 0.2
             }
            },
            "type": "barpolar"
           }
          ],
          "carpet": [
           {
            "aaxis": {
             "endlinecolor": "#2a3f5f",
             "gridcolor": "white",
             "linecolor": "white",
             "minorgridcolor": "white",
             "startlinecolor": "#2a3f5f"
            },
            "baxis": {
             "endlinecolor": "#2a3f5f",
             "gridcolor": "white",
             "linecolor": "white",
             "minorgridcolor": "white",
             "startlinecolor": "#2a3f5f"
            },
            "type": "carpet"
           }
          ],
          "choropleth": [
           {
            "colorbar": {
             "outlinewidth": 0,
             "ticks": ""
            },
            "type": "choropleth"
           }
          ],
          "contour": [
           {
            "colorbar": {
             "outlinewidth": 0,
             "ticks": ""
            },
            "colorscale": [
             [
              0,
              "#0d0887"
             ],
             [
              0.1111111111111111,
              "#46039f"
             ],
             [
              0.2222222222222222,
              "#7201a8"
             ],
             [
              0.3333333333333333,
              "#9c179e"
             ],
             [
              0.4444444444444444,
              "#bd3786"
             ],
             [
              0.5555555555555556,
              "#d8576b"
             ],
             [
              0.6666666666666666,
              "#ed7953"
             ],
             [
              0.7777777777777778,
              "#fb9f3a"
             ],
             [
              0.8888888888888888,
              "#fdca26"
             ],
             [
              1,
              "#f0f921"
             ]
            ],
            "type": "contour"
           }
          ],
          "contourcarpet": [
           {
            "colorbar": {
             "outlinewidth": 0,
             "ticks": ""
            },
            "type": "contourcarpet"
           }
          ],
          "heatmap": [
           {
            "colorbar": {
             "outlinewidth": 0,
             "ticks": ""
            },
            "colorscale": [
             [
              0,
              "#0d0887"
             ],
             [
              0.1111111111111111,
              "#46039f"
             ],
             [
              0.2222222222222222,
              "#7201a8"
             ],
             [
              0.3333333333333333,
              "#9c179e"
             ],
             [
              0.4444444444444444,
              "#bd3786"
             ],
             [
              0.5555555555555556,
              "#d8576b"
             ],
             [
              0.6666666666666666,
              "#ed7953"
             ],
             [
              0.7777777777777778,
              "#fb9f3a"
             ],
             [
              0.8888888888888888,
              "#fdca26"
             ],
             [
              1,
              "#f0f921"
             ]
            ],
            "type": "heatmap"
           }
          ],
          "heatmapgl": [
           {
            "colorbar": {
             "outlinewidth": 0,
             "ticks": ""
            },
            "colorscale": [
             [
              0,
              "#0d0887"
             ],
             [
              0.1111111111111111,
              "#46039f"
             ],
             [
              0.2222222222222222,
              "#7201a8"
             ],
             [
              0.3333333333333333,
              "#9c179e"
             ],
             [
              0.4444444444444444,
              "#bd3786"
             ],
             [
              0.5555555555555556,
              "#d8576b"
             ],
             [
              0.6666666666666666,
              "#ed7953"
             ],
             [
              0.7777777777777778,
              "#fb9f3a"
             ],
             [
              0.8888888888888888,
              "#fdca26"
             ],
             [
              1,
              "#f0f921"
             ]
            ],
            "type": "heatmapgl"
           }
          ],
          "histogram": [
           {
            "marker": {
             "pattern": {
              "fillmode": "overlay",
              "size": 10,
              "solidity": 0.2
             }
            },
            "type": "histogram"
           }
          ],
          "histogram2d": [
           {
            "colorbar": {
             "outlinewidth": 0,
             "ticks": ""
            },
            "colorscale": [
             [
              0,
              "#0d0887"
             ],
             [
              0.1111111111111111,
              "#46039f"
             ],
             [
              0.2222222222222222,
              "#7201a8"
             ],
             [
              0.3333333333333333,
              "#9c179e"
             ],
             [
              0.4444444444444444,
              "#bd3786"
             ],
             [
              0.5555555555555556,
              "#d8576b"
             ],
             [
              0.6666666666666666,
              "#ed7953"
             ],
             [
              0.7777777777777778,
              "#fb9f3a"
             ],
             [
              0.8888888888888888,
              "#fdca26"
             ],
             [
              1,
              "#f0f921"
             ]
            ],
            "type": "histogram2d"
           }
          ],
          "histogram2dcontour": [
           {
            "colorbar": {
             "outlinewidth": 0,
             "ticks": ""
            },
            "colorscale": [
             [
              0,
              "#0d0887"
             ],
             [
              0.1111111111111111,
              "#46039f"
             ],
             [
              0.2222222222222222,
              "#7201a8"
             ],
             [
              0.3333333333333333,
              "#9c179e"
             ],
             [
              0.4444444444444444,
              "#bd3786"
             ],
             [
              0.5555555555555556,
              "#d8576b"
             ],
             [
              0.6666666666666666,
              "#ed7953"
             ],
             [
              0.7777777777777778,
              "#fb9f3a"
             ],
             [
              0.8888888888888888,
              "#fdca26"
             ],
             [
              1,
              "#f0f921"
             ]
            ],
            "type": "histogram2dcontour"
           }
          ],
          "mesh3d": [
           {
            "colorbar": {
             "outlinewidth": 0,
             "ticks": ""
            },
            "type": "mesh3d"
           }
          ],
          "parcoords": [
           {
            "line": {
             "colorbar": {
              "outlinewidth": 0,
              "ticks": ""
             }
            },
            "type": "parcoords"
           }
          ],
          "pie": [
           {
            "automargin": true,
            "type": "pie"
           }
          ],
          "scatter": [
           {
            "fillpattern": {
             "fillmode": "overlay",
             "size": 10,
             "solidity": 0.2
            },
            "type": "scatter"
           }
          ],
          "scatter3d": [
           {
            "line": {
             "colorbar": {
              "outlinewidth": 0,
              "ticks": ""
             }
            },
            "marker": {
             "colorbar": {
              "outlinewidth": 0,
              "ticks": ""
             }
            },
            "type": "scatter3d"
           }
          ],
          "scattercarpet": [
           {
            "marker": {
             "colorbar": {
              "outlinewidth": 0,
              "ticks": ""
             }
            },
            "type": "scattercarpet"
           }
          ],
          "scattergeo": [
           {
            "marker": {
             "colorbar": {
              "outlinewidth": 0,
              "ticks": ""
             }
            },
            "type": "scattergeo"
           }
          ],
          "scattergl": [
           {
            "marker": {
             "colorbar": {
              "outlinewidth": 0,
              "ticks": ""
             }
            },
            "type": "scattergl"
           }
          ],
          "scattermapbox": [
           {
            "marker": {
             "colorbar": {
              "outlinewidth": 0,
              "ticks": ""
             }
            },
            "type": "scattermapbox"
           }
          ],
          "scatterpolar": [
           {
            "marker": {
             "colorbar": {
              "outlinewidth": 0,
              "ticks": ""
             }
            },
            "type": "scatterpolar"
           }
          ],
          "scatterpolargl": [
           {
            "marker": {
             "colorbar": {
              "outlinewidth": 0,
              "ticks": ""
             }
            },
            "type": "scatterpolargl"
           }
          ],
          "scatterternary": [
           {
            "marker": {
             "colorbar": {
              "outlinewidth": 0,
              "ticks": ""
             }
            },
            "type": "scatterternary"
           }
          ],
          "surface": [
           {
            "colorbar": {
             "outlinewidth": 0,
             "ticks": ""
            },
            "colorscale": [
             [
              0,
              "#0d0887"
             ],
             [
              0.1111111111111111,
              "#46039f"
             ],
             [
              0.2222222222222222,
              "#7201a8"
             ],
             [
              0.3333333333333333,
              "#9c179e"
             ],
             [
              0.4444444444444444,
              "#bd3786"
             ],
             [
              0.5555555555555556,
              "#d8576b"
             ],
             [
              0.6666666666666666,
              "#ed7953"
             ],
             [
              0.7777777777777778,
              "#fb9f3a"
             ],
             [
              0.8888888888888888,
              "#fdca26"
             ],
             [
              1,
              "#f0f921"
             ]
            ],
            "type": "surface"
           }
          ],
          "table": [
           {
            "cells": {
             "fill": {
              "color": "#EBF0F8"
             },
             "line": {
              "color": "white"
             }
            },
            "header": {
             "fill": {
              "color": "#C8D4E3"
             },
             "line": {
              "color": "white"
             }
            },
            "type": "table"
           }
          ]
         },
         "layout": {
          "annotationdefaults": {
           "arrowcolor": "#2a3f5f",
           "arrowhead": 0,
           "arrowwidth": 1
          },
          "autotypenumbers": "strict",
          "coloraxis": {
           "colorbar": {
            "outlinewidth": 0,
            "ticks": ""
           }
          },
          "colorscale": {
           "diverging": [
            [
             0,
             "#8e0152"
            ],
            [
             0.1,
             "#c51b7d"
            ],
            [
             0.2,
             "#de77ae"
            ],
            [
             0.3,
             "#f1b6da"
            ],
            [
             0.4,
             "#fde0ef"
            ],
            [
             0.5,
             "#f7f7f7"
            ],
            [
             0.6,
             "#e6f5d0"
            ],
            [
             0.7,
             "#b8e186"
            ],
            [
             0.8,
             "#7fbc41"
            ],
            [
             0.9,
             "#4d9221"
            ],
            [
             1,
             "#276419"
            ]
           ],
           "sequential": [
            [
             0,
             "#0d0887"
            ],
            [
             0.1111111111111111,
             "#46039f"
            ],
            [
             0.2222222222222222,
             "#7201a8"
            ],
            [
             0.3333333333333333,
             "#9c179e"
            ],
            [
             0.4444444444444444,
             "#bd3786"
            ],
            [
             0.5555555555555556,
             "#d8576b"
            ],
            [
             0.6666666666666666,
             "#ed7953"
            ],
            [
             0.7777777777777778,
             "#fb9f3a"
            ],
            [
             0.8888888888888888,
             "#fdca26"
            ],
            [
             1,
             "#f0f921"
            ]
           ],
           "sequentialminus": [
            [
             0,
             "#0d0887"
            ],
            [
             0.1111111111111111,
             "#46039f"
            ],
            [
             0.2222222222222222,
             "#7201a8"
            ],
            [
             0.3333333333333333,
             "#9c179e"
            ],
            [
             0.4444444444444444,
             "#bd3786"
            ],
            [
             0.5555555555555556,
             "#d8576b"
            ],
            [
             0.6666666666666666,
             "#ed7953"
            ],
            [
             0.7777777777777778,
             "#fb9f3a"
            ],
            [
             0.8888888888888888,
             "#fdca26"
            ],
            [
             1,
             "#f0f921"
            ]
           ]
          },
          "colorway": [
           "#636efa",
           "#EF553B",
           "#00cc96",
           "#ab63fa",
           "#FFA15A",
           "#19d3f3",
           "#FF6692",
           "#B6E880",
           "#FF97FF",
           "#FECB52"
          ],
          "font": {
           "color": "#2a3f5f"
          },
          "geo": {
           "bgcolor": "white",
           "lakecolor": "white",
           "landcolor": "#E5ECF6",
           "showlakes": true,
           "showland": true,
           "subunitcolor": "white"
          },
          "hoverlabel": {
           "align": "left"
          },
          "hovermode": "closest",
          "mapbox": {
           "style": "light"
          },
          "paper_bgcolor": "white",
          "plot_bgcolor": "#E5ECF6",
          "polar": {
           "angularaxis": {
            "gridcolor": "white",
            "linecolor": "white",
            "ticks": ""
           },
           "bgcolor": "#E5ECF6",
           "radialaxis": {
            "gridcolor": "white",
            "linecolor": "white",
            "ticks": ""
           }
          },
          "scene": {
           "xaxis": {
            "backgroundcolor": "#E5ECF6",
            "gridcolor": "white",
            "gridwidth": 2,
            "linecolor": "white",
            "showbackground": true,
            "ticks": "",
            "zerolinecolor": "white"
           },
           "yaxis": {
            "backgroundcolor": "#E5ECF6",
            "gridcolor": "white",
            "gridwidth": 2,
            "linecolor": "white",
            "showbackground": true,
            "ticks": "",
            "zerolinecolor": "white"
           },
           "zaxis": {
            "backgroundcolor": "#E5ECF6",
            "gridcolor": "white",
            "gridwidth": 2,
            "linecolor": "white",
            "showbackground": true,
            "ticks": "",
            "zerolinecolor": "white"
           }
          },
          "shapedefaults": {
           "line": {
            "color": "#2a3f5f"
           }
          },
          "ternary": {
           "aaxis": {
            "gridcolor": "white",
            "linecolor": "white",
            "ticks": ""
           },
           "baxis": {
            "gridcolor": "white",
            "linecolor": "white",
            "ticks": ""
           },
           "bgcolor": "#E5ECF6",
           "caxis": {
            "gridcolor": "white",
            "linecolor": "white",
            "ticks": ""
           }
          },
          "title": {
           "x": 0.05
          },
          "xaxis": {
           "automargin": true,
           "gridcolor": "white",
           "linecolor": "white",
           "ticks": "",
           "title": {
            "standoff": 15
           },
           "zerolinecolor": "white",
           "zerolinewidth": 2
          },
          "yaxis": {
           "automargin": true,
           "gridcolor": "white",
           "linecolor": "white",
           "ticks": "",
           "title": {
            "standoff": 15
           },
           "zerolinecolor": "white",
           "zerolinewidth": 2
          }
         }
        },
        "xaxis": {
         "anchor": "y",
         "domain": [
          0,
          1
         ]
        },
        "yaxis": {
         "anchor": "x",
         "domain": [
          0,
          1
         ]
        }
       }
      }
     },
     "metadata": {},
     "output_type": "display_data"
    }
   ],
   "source": [
    "fig = demo_1.plot(res=164,fit=True)\n",
    "fig.show()"
   ]
  },
  {
   "attachments": {},
   "cell_type": "markdown",
   "metadata": {},
   "source": [
    "### 4.2. one residue, two nuclei, one pKa \n",
    "By default if you notify two nuclei, the script will perform a global fit for this residue in which the pKa value is the common parameter."
   ]
  },
  {
   "cell_type": "code",
   "execution_count": 43,
   "metadata": {},
   "outputs": [
    {
     "data": {
      "application/vnd.plotly.v1+json": {
       "config": {
        "plotlyServerURL": "https://plot.ly"
       },
       "data": [
        {
         "marker": {
          "color": "#EF553B"
         },
         "mode": "markers",
         "type": "scatter",
         "x": [
          3.5,
          4,
          4.5,
          5,
          5.5,
          6,
          7,
          8
         ],
         "xaxis": "x",
         "y": [
          7.495,
          7.495,
          7.532,
          7.604,
          7.712,
          7.826,
          7.944,
          7.967
         ],
         "yaxis": "y"
        },
        {
         "marker": {
          "color": "#EF553B"
         },
         "mode": "lines",
         "name": "best fit",
         "type": "scatter",
         "x": [
          3.3,
          3.3494949494949493,
          3.398989898989899,
          3.4484848484848483,
          3.4979797979797977,
          3.5474747474747472,
          3.5969696969696967,
          3.646464646464646,
          3.6959595959595957,
          3.745454545454545,
          3.7949494949494946,
          3.844444444444444,
          3.8939393939393936,
          3.943434343434343,
          3.9929292929292926,
          4.042424242424242,
          4.0919191919191915,
          4.141414141414141,
          4.1909090909090905,
          4.24040404040404,
          4.289898989898989,
          4.339393939393939,
          4.388888888888888,
          4.438383838383838,
          4.487878787878787,
          4.537373737373737,
          4.586868686868686,
          4.636363636363636,
          4.685858585858585,
          4.735353535353535,
          4.784848484848484,
          4.834343434343434,
          4.883838383838383,
          4.933333333333333,
          4.982828282828282,
          5.032323232323232,
          5.081818181818181,
          5.131313131313131,
          5.18080808080808,
          5.23030303030303,
          5.279797979797979,
          5.329292929292929,
          5.378787878787879,
          5.428282828282828,
          5.477777777777778,
          5.527272727272727,
          5.576767676767677,
          5.626262626262626,
          5.675757575757576,
          5.725252525252525,
          5.774747474747475,
          5.824242424242424,
          5.873737373737374,
          5.923232323232323,
          5.972727272727273,
          6.022222222222222,
          6.071717171717172,
          6.121212121212121,
          6.170707070707071,
          6.22020202020202,
          6.2696969696969695,
          6.319191919191919,
          6.3686868686868685,
          6.418181818181818,
          6.4676767676767675,
          6.517171717171717,
          6.566666666666666,
          6.616161616161616,
          6.665656565656565,
          6.715151515151515,
          6.764646464646464,
          6.814141414141414,
          6.863636363636363,
          6.913131313131313,
          6.962626262626262,
          7.012121212121212,
          7.061616161616161,
          7.111111111111111,
          7.16060606060606,
          7.21010101010101,
          7.259595959595959,
          7.309090909090909,
          7.358585858585858,
          7.408080808080808,
          7.457575757575757,
          7.507070707070707,
          7.556565656565656,
          7.6060606060606055,
          7.655555555555555,
          7.7050505050505045,
          7.754545454545454,
          7.8040404040404034,
          7.853535353535353,
          7.903030303030302,
          7.952525252525252,
          8.002020202020201,
          8.05151515151515,
          8.1010101010101,
          8.15050505050505,
          8.2
         ],
         "xaxis": "x",
         "y": [
          7.501679271886549,
          7.5019356537111745,
          7.5022226516498565,
          7.502543877065865,
          7.502903355959985,
          7.503305573694145,
          7.503755523799728,
          7.504258761047131,
          7.504821458901268,
          7.505450471413846,
          7.5061533995018355,
          7.506938661426124,
          7.5078155671073,
          7.508794395688081,
          7.509886475464746,
          7.511104264952176,
          7.512461433408458,
          7.513972938614316,
          7.515655099071042,
          7.517525657040956,
          7.519603828005007,
          7.521910331158019,
          7.52446739451939,
          7.527298727136838,
          7.530429449754035,
          7.53388597427598,
          7.537695821506025,
          7.54188736608783,
          7.5464894975443455,
          7.551531186980148,
          7.557040950647075,
          7.5630462044214575,
          7.569572507542752,
          7.576642699898604,
          7.584275944778809,
          7.592486698252789,
          7.601283636802299,
          7.61066858591465,
          7.620635503036297,
          7.631169577319234,
          7.642246514460408,
          7.653832076081338,
          7.66588193815427,
          7.678341921066741,
          7.691148624914568,
          7.704230478403743,
          7.71750918027362,
          7.730901481321283,
          7.744321226404387,
          7.7576815527991725,
          7.770897127034506,
          7.783886298767957,
          7.796573057911701,
          7.808888698992838,
          7.820773122231606,
          7.83217573073356,
          7.84305591390575,
          7.853383135396382,
          7.8631366669482095,
          7.87230502599009,
          7.880885184073745,
          7.888881615823154,
          7.896305255000978,
          7.903172417078567,
          7.909503737884661,
          7.915323166939363,
          7.920657043130397,
          7.925533270312073,
          7.929980601736858,
          7.934028035218126,
          7.937704315605128,
          7.941037537410793,
          7.944054838061966,
          7.946782170991545,
          7.949244147408691,
          7.9514639358320505,
          7.953463209148218,
          7.955262129897557,
          7.956879365562912,
          7.958332126748526,
          7.959636222220241,
          7.960806125790787,
          7.961855050950682,
          7.96279502995437,
          7.963636994770466,
          7.9643908578983975,
          7.9650655915493065,
          7.965669304096628,
          7.9662093130322145,
          7.966692213927855,
          7.967123945109778,
          7.967509847914511,
          7.9678547225165035,
          7.9681628794084745,
          7.968438186680592,
          7.968684113289617,
          7.968903768538273,
          7.969099938001966,
          7.969275116147502,
          7.969431535888914
         ],
         "yaxis": "y"
        },
        {
         "marker": {
          "color": "blue"
         },
         "mode": "markers",
         "type": "scatter",
         "x": [
          3.5,
          4,
          4.5,
          5,
          5.5,
          6,
          7,
          8
         ],
         "xaxis": "x2",
         "y": [
          137.529,
          137.516,
          137.566,
          137.69,
          137.929,
          138.195,
          138.481,
          138.512
         ],
         "yaxis": "y2"
        },
        {
         "marker": {
          "color": "blue"
         },
         "mode": "lines",
         "name": "best fit",
         "type": "scatter",
         "x": [
          3.3,
          3.3494949494949493,
          3.398989898989899,
          3.4484848484848483,
          3.4979797979797977,
          3.5474747474747472,
          3.5969696969696967,
          3.646464646464646,
          3.6959595959595957,
          3.745454545454545,
          3.7949494949494946,
          3.844444444444444,
          3.8939393939393936,
          3.943434343434343,
          3.9929292929292926,
          4.042424242424242,
          4.0919191919191915,
          4.141414141414141,
          4.1909090909090905,
          4.24040404040404,
          4.289898989898989,
          4.339393939393939,
          4.388888888888888,
          4.438383838383838,
          4.487878787878787,
          4.537373737373737,
          4.586868686868686,
          4.636363636363636,
          4.685858585858585,
          4.735353535353535,
          4.784848484848484,
          4.834343434343434,
          4.883838383838383,
          4.933333333333333,
          4.982828282828282,
          5.032323232323232,
          5.081818181818181,
          5.131313131313131,
          5.18080808080808,
          5.23030303030303,
          5.279797979797979,
          5.329292929292929,
          5.378787878787879,
          5.428282828282828,
          5.477777777777778,
          5.527272727272727,
          5.576767676767677,
          5.626262626262626,
          5.675757575757576,
          5.725252525252525,
          5.774747474747475,
          5.824242424242424,
          5.873737373737374,
          5.923232323232323,
          5.972727272727273,
          6.022222222222222,
          6.071717171717172,
          6.121212121212121,
          6.170707070707071,
          6.22020202020202,
          6.2696969696969695,
          6.319191919191919,
          6.3686868686868685,
          6.418181818181818,
          6.4676767676767675,
          6.517171717171717,
          6.566666666666666,
          6.616161616161616,
          6.665656565656565,
          6.715151515151515,
          6.764646464646464,
          6.814141414141414,
          6.863636363636363,
          6.913131313131313,
          6.962626262626262,
          7.012121212121212,
          7.061616161616161,
          7.111111111111111,
          7.16060606060606,
          7.21010101010101,
          7.259595959595959,
          7.309090909090909,
          7.358585858585858,
          7.408080808080808,
          7.457575757575757,
          7.507070707070707,
          7.556565656565656,
          7.6060606060606055,
          7.655555555555555,
          7.7050505050505045,
          7.754545454545454,
          7.8040404040404034,
          7.853535353535353,
          7.903030303030302,
          7.952525252525252,
          8.002020202020201,
          8.05151515151515,
          8.1010101010101,
          8.15050505050505,
          8.2
         ],
         "xaxis": "x2",
         "y": [
          137.50791222487356,
          137.50846300755916,
          137.5090795625574,
          137.50976964812634,
          137.51054191328598,
          137.51140599389757,
          137.51237261751803,
          137.51345371740888,
          137.5146625559673,
          137.51601385768873,
          137.51752395155228,
          137.5192109224294,
          137.52109477073574,
          137.52319757905792,
          137.52554368386922,
          137.52815984968117,
          137.53107544203357,
          137.53432259458742,
          137.53793636422702,
          137.54195486648925,
          137.54641938181283,
          137.551374421051,
          137.5568677364508,
          137.56295026193857,
          137.56967596417394,
          137.57710158360638,
          137.58528624292137,
          137.59429089910157,
          137.60417761524005,
          137.61500862969086,
          137.6268452036522,
          137.63974623439586,
          137.65376663059783,
          137.66895545897597,
          137.68535388784724,
          137.70299297305098,
          137.72189135419205,
          137.74205295294786,
          137.76346478815694,
          137.78609504181244,
          137.80989152268944,
          137.8347806767984,
          137.86066728324334,
          137.88743494846756,
          137.9149474710474,
          137.94305109503873,
          137.97157760657262,
          138.00034816216197,
          138.02917767551702,
          138.05787954025743,
          138.0862704352821,
          138.11417495192092,
          138.14142979841031,
          138.16788737542282,
          138.19341857116143,
          138.21791468878914,
          138.24128848494735,
          138.26347435867604,
          138.28442777965316,
          138.30412407997815,
          138.32255675366378,
          138.33973541350304,
          138.35568354839643,
          138.37043620871904,
          138.38403772622954,
          138.39653955145886,
          138.4079982679942,
          138.41847382142578,
          138.42802798209806,
          138.4367230457434,
          138.44462076465368,
          138.4517814940093,
          138.4582635328916,
          138.4641226368187,
          138.46941167782197,
          138.4741804286142,
          138.4784754488558,
          138.48234005354436,
          138.48581434585944,
          138.4889352991818,
          138.49173687533585,
          138.49425016827863,
          138.4965035644287,
          138.4985229125663,
          138.50033169773766,
          138.50195121487306,
          138.50340073889006,
          138.5046976889318,
          138.50585778509785,
          138.50689519659366,
          138.50782268067013,
          138.50865171207082,
          138.5093926029657,
          138.5100546135462,
          138.51064605359434,
          138.5111743754377,
          138.51164625876226,
          138.51206768779375,
          138.512444021372,
          138.5127800564454
         ],
         "yaxis": "y2"
        }
       ],
       "layout": {
        "template": {
         "data": {
          "bar": [
           {
            "error_x": {
             "color": "#2a3f5f"
            },
            "error_y": {
             "color": "#2a3f5f"
            },
            "marker": {
             "line": {
              "color": "#E5ECF6",
              "width": 0.5
             },
             "pattern": {
              "fillmode": "overlay",
              "size": 10,
              "solidity": 0.2
             }
            },
            "type": "bar"
           }
          ],
          "barpolar": [
           {
            "marker": {
             "line": {
              "color": "#E5ECF6",
              "width": 0.5
             },
             "pattern": {
              "fillmode": "overlay",
              "size": 10,
              "solidity": 0.2
             }
            },
            "type": "barpolar"
           }
          ],
          "carpet": [
           {
            "aaxis": {
             "endlinecolor": "#2a3f5f",
             "gridcolor": "white",
             "linecolor": "white",
             "minorgridcolor": "white",
             "startlinecolor": "#2a3f5f"
            },
            "baxis": {
             "endlinecolor": "#2a3f5f",
             "gridcolor": "white",
             "linecolor": "white",
             "minorgridcolor": "white",
             "startlinecolor": "#2a3f5f"
            },
            "type": "carpet"
           }
          ],
          "choropleth": [
           {
            "colorbar": {
             "outlinewidth": 0,
             "ticks": ""
            },
            "type": "choropleth"
           }
          ],
          "contour": [
           {
            "colorbar": {
             "outlinewidth": 0,
             "ticks": ""
            },
            "colorscale": [
             [
              0,
              "#0d0887"
             ],
             [
              0.1111111111111111,
              "#46039f"
             ],
             [
              0.2222222222222222,
              "#7201a8"
             ],
             [
              0.3333333333333333,
              "#9c179e"
             ],
             [
              0.4444444444444444,
              "#bd3786"
             ],
             [
              0.5555555555555556,
              "#d8576b"
             ],
             [
              0.6666666666666666,
              "#ed7953"
             ],
             [
              0.7777777777777778,
              "#fb9f3a"
             ],
             [
              0.8888888888888888,
              "#fdca26"
             ],
             [
              1,
              "#f0f921"
             ]
            ],
            "type": "contour"
           }
          ],
          "contourcarpet": [
           {
            "colorbar": {
             "outlinewidth": 0,
             "ticks": ""
            },
            "type": "contourcarpet"
           }
          ],
          "heatmap": [
           {
            "colorbar": {
             "outlinewidth": 0,
             "ticks": ""
            },
            "colorscale": [
             [
              0,
              "#0d0887"
             ],
             [
              0.1111111111111111,
              "#46039f"
             ],
             [
              0.2222222222222222,
              "#7201a8"
             ],
             [
              0.3333333333333333,
              "#9c179e"
             ],
             [
              0.4444444444444444,
              "#bd3786"
             ],
             [
              0.5555555555555556,
              "#d8576b"
             ],
             [
              0.6666666666666666,
              "#ed7953"
             ],
             [
              0.7777777777777778,
              "#fb9f3a"
             ],
             [
              0.8888888888888888,
              "#fdca26"
             ],
             [
              1,
              "#f0f921"
             ]
            ],
            "type": "heatmap"
           }
          ],
          "heatmapgl": [
           {
            "colorbar": {
             "outlinewidth": 0,
             "ticks": ""
            },
            "colorscale": [
             [
              0,
              "#0d0887"
             ],
             [
              0.1111111111111111,
              "#46039f"
             ],
             [
              0.2222222222222222,
              "#7201a8"
             ],
             [
              0.3333333333333333,
              "#9c179e"
             ],
             [
              0.4444444444444444,
              "#bd3786"
             ],
             [
              0.5555555555555556,
              "#d8576b"
             ],
             [
              0.6666666666666666,
              "#ed7953"
             ],
             [
              0.7777777777777778,
              "#fb9f3a"
             ],
             [
              0.8888888888888888,
              "#fdca26"
             ],
             [
              1,
              "#f0f921"
             ]
            ],
            "type": "heatmapgl"
           }
          ],
          "histogram": [
           {
            "marker": {
             "pattern": {
              "fillmode": "overlay",
              "size": 10,
              "solidity": 0.2
             }
            },
            "type": "histogram"
           }
          ],
          "histogram2d": [
           {
            "colorbar": {
             "outlinewidth": 0,
             "ticks": ""
            },
            "colorscale": [
             [
              0,
              "#0d0887"
             ],
             [
              0.1111111111111111,
              "#46039f"
             ],
             [
              0.2222222222222222,
              "#7201a8"
             ],
             [
              0.3333333333333333,
              "#9c179e"
             ],
             [
              0.4444444444444444,
              "#bd3786"
             ],
             [
              0.5555555555555556,
              "#d8576b"
             ],
             [
              0.6666666666666666,
              "#ed7953"
             ],
             [
              0.7777777777777778,
              "#fb9f3a"
             ],
             [
              0.8888888888888888,
              "#fdca26"
             ],
             [
              1,
              "#f0f921"
             ]
            ],
            "type": "histogram2d"
           }
          ],
          "histogram2dcontour": [
           {
            "colorbar": {
             "outlinewidth": 0,
             "ticks": ""
            },
            "colorscale": [
             [
              0,
              "#0d0887"
             ],
             [
              0.1111111111111111,
              "#46039f"
             ],
             [
              0.2222222222222222,
              "#7201a8"
             ],
             [
              0.3333333333333333,
              "#9c179e"
             ],
             [
              0.4444444444444444,
              "#bd3786"
             ],
             [
              0.5555555555555556,
              "#d8576b"
             ],
             [
              0.6666666666666666,
              "#ed7953"
             ],
             [
              0.7777777777777778,
              "#fb9f3a"
             ],
             [
              0.8888888888888888,
              "#fdca26"
             ],
             [
              1,
              "#f0f921"
             ]
            ],
            "type": "histogram2dcontour"
           }
          ],
          "mesh3d": [
           {
            "colorbar": {
             "outlinewidth": 0,
             "ticks": ""
            },
            "type": "mesh3d"
           }
          ],
          "parcoords": [
           {
            "line": {
             "colorbar": {
              "outlinewidth": 0,
              "ticks": ""
             }
            },
            "type": "parcoords"
           }
          ],
          "pie": [
           {
            "automargin": true,
            "type": "pie"
           }
          ],
          "scatter": [
           {
            "fillpattern": {
             "fillmode": "overlay",
             "size": 10,
             "solidity": 0.2
            },
            "type": "scatter"
           }
          ],
          "scatter3d": [
           {
            "line": {
             "colorbar": {
              "outlinewidth": 0,
              "ticks": ""
             }
            },
            "marker": {
             "colorbar": {
              "outlinewidth": 0,
              "ticks": ""
             }
            },
            "type": "scatter3d"
           }
          ],
          "scattercarpet": [
           {
            "marker": {
             "colorbar": {
              "outlinewidth": 0,
              "ticks": ""
             }
            },
            "type": "scattercarpet"
           }
          ],
          "scattergeo": [
           {
            "marker": {
             "colorbar": {
              "outlinewidth": 0,
              "ticks": ""
             }
            },
            "type": "scattergeo"
           }
          ],
          "scattergl": [
           {
            "marker": {
             "colorbar": {
              "outlinewidth": 0,
              "ticks": ""
             }
            },
            "type": "scattergl"
           }
          ],
          "scattermapbox": [
           {
            "marker": {
             "colorbar": {
              "outlinewidth": 0,
              "ticks": ""
             }
            },
            "type": "scattermapbox"
           }
          ],
          "scatterpolar": [
           {
            "marker": {
             "colorbar": {
              "outlinewidth": 0,
              "ticks": ""
             }
            },
            "type": "scatterpolar"
           }
          ],
          "scatterpolargl": [
           {
            "marker": {
             "colorbar": {
              "outlinewidth": 0,
              "ticks": ""
             }
            },
            "type": "scatterpolargl"
           }
          ],
          "scatterternary": [
           {
            "marker": {
             "colorbar": {
              "outlinewidth": 0,
              "ticks": ""
             }
            },
            "type": "scatterternary"
           }
          ],
          "surface": [
           {
            "colorbar": {
             "outlinewidth": 0,
             "ticks": ""
            },
            "colorscale": [
             [
              0,
              "#0d0887"
             ],
             [
              0.1111111111111111,
              "#46039f"
             ],
             [
              0.2222222222222222,
              "#7201a8"
             ],
             [
              0.3333333333333333,
              "#9c179e"
             ],
             [
              0.4444444444444444,
              "#bd3786"
             ],
             [
              0.5555555555555556,
              "#d8576b"
             ],
             [
              0.6666666666666666,
              "#ed7953"
             ],
             [
              0.7777777777777778,
              "#fb9f3a"
             ],
             [
              0.8888888888888888,
              "#fdca26"
             ],
             [
              1,
              "#f0f921"
             ]
            ],
            "type": "surface"
           }
          ],
          "table": [
           {
            "cells": {
             "fill": {
              "color": "#EBF0F8"
             },
             "line": {
              "color": "white"
             }
            },
            "header": {
             "fill": {
              "color": "#C8D4E3"
             },
             "line": {
              "color": "white"
             }
            },
            "type": "table"
           }
          ]
         },
         "layout": {
          "annotationdefaults": {
           "arrowcolor": "#2a3f5f",
           "arrowhead": 0,
           "arrowwidth": 1
          },
          "autotypenumbers": "strict",
          "coloraxis": {
           "colorbar": {
            "outlinewidth": 0,
            "ticks": ""
           }
          },
          "colorscale": {
           "diverging": [
            [
             0,
             "#8e0152"
            ],
            [
             0.1,
             "#c51b7d"
            ],
            [
             0.2,
             "#de77ae"
            ],
            [
             0.3,
             "#f1b6da"
            ],
            [
             0.4,
             "#fde0ef"
            ],
            [
             0.5,
             "#f7f7f7"
            ],
            [
             0.6,
             "#e6f5d0"
            ],
            [
             0.7,
             "#b8e186"
            ],
            [
             0.8,
             "#7fbc41"
            ],
            [
             0.9,
             "#4d9221"
            ],
            [
             1,
             "#276419"
            ]
           ],
           "sequential": [
            [
             0,
             "#0d0887"
            ],
            [
             0.1111111111111111,
             "#46039f"
            ],
            [
             0.2222222222222222,
             "#7201a8"
            ],
            [
             0.3333333333333333,
             "#9c179e"
            ],
            [
             0.4444444444444444,
             "#bd3786"
            ],
            [
             0.5555555555555556,
             "#d8576b"
            ],
            [
             0.6666666666666666,
             "#ed7953"
            ],
            [
             0.7777777777777778,
             "#fb9f3a"
            ],
            [
             0.8888888888888888,
             "#fdca26"
            ],
            [
             1,
             "#f0f921"
            ]
           ],
           "sequentialminus": [
            [
             0,
             "#0d0887"
            ],
            [
             0.1111111111111111,
             "#46039f"
            ],
            [
             0.2222222222222222,
             "#7201a8"
            ],
            [
             0.3333333333333333,
             "#9c179e"
            ],
            [
             0.4444444444444444,
             "#bd3786"
            ],
            [
             0.5555555555555556,
             "#d8576b"
            ],
            [
             0.6666666666666666,
             "#ed7953"
            ],
            [
             0.7777777777777778,
             "#fb9f3a"
            ],
            [
             0.8888888888888888,
             "#fdca26"
            ],
            [
             1,
             "#f0f921"
            ]
           ]
          },
          "colorway": [
           "#636efa",
           "#EF553B",
           "#00cc96",
           "#ab63fa",
           "#FFA15A",
           "#19d3f3",
           "#FF6692",
           "#B6E880",
           "#FF97FF",
           "#FECB52"
          ],
          "font": {
           "color": "#2a3f5f"
          },
          "geo": {
           "bgcolor": "white",
           "lakecolor": "white",
           "landcolor": "#E5ECF6",
           "showlakes": true,
           "showland": true,
           "subunitcolor": "white"
          },
          "hoverlabel": {
           "align": "left"
          },
          "hovermode": "closest",
          "mapbox": {
           "style": "light"
          },
          "paper_bgcolor": "white",
          "plot_bgcolor": "#E5ECF6",
          "polar": {
           "angularaxis": {
            "gridcolor": "white",
            "linecolor": "white",
            "ticks": ""
           },
           "bgcolor": "#E5ECF6",
           "radialaxis": {
            "gridcolor": "white",
            "linecolor": "white",
            "ticks": ""
           }
          },
          "scene": {
           "xaxis": {
            "backgroundcolor": "#E5ECF6",
            "gridcolor": "white",
            "gridwidth": 2,
            "linecolor": "white",
            "showbackground": true,
            "ticks": "",
            "zerolinecolor": "white"
           },
           "yaxis": {
            "backgroundcolor": "#E5ECF6",
            "gridcolor": "white",
            "gridwidth": 2,
            "linecolor": "white",
            "showbackground": true,
            "ticks": "",
            "zerolinecolor": "white"
           },
           "zaxis": {
            "backgroundcolor": "#E5ECF6",
            "gridcolor": "white",
            "gridwidth": 2,
            "linecolor": "white",
            "showbackground": true,
            "ticks": "",
            "zerolinecolor": "white"
           }
          },
          "shapedefaults": {
           "line": {
            "color": "#2a3f5f"
           }
          },
          "ternary": {
           "aaxis": {
            "gridcolor": "white",
            "linecolor": "white",
            "ticks": ""
           },
           "baxis": {
            "gridcolor": "white",
            "linecolor": "white",
            "ticks": ""
           },
           "bgcolor": "#E5ECF6",
           "caxis": {
            "gridcolor": "white",
            "linecolor": "white",
            "ticks": ""
           }
          },
          "title": {
           "x": 0.05
          },
          "xaxis": {
           "automargin": true,
           "gridcolor": "white",
           "linecolor": "white",
           "ticks": "",
           "title": {
            "standoff": 15
           },
           "zerolinecolor": "white",
           "zerolinewidth": 2
          },
          "yaxis": {
           "automargin": true,
           "gridcolor": "white",
           "linecolor": "white",
           "ticks": "",
           "title": {
            "standoff": 15
           },
           "zerolinecolor": "white",
           "zerolinewidth": 2
          }
         }
        },
        "xaxis": {
         "anchor": "y",
         "domain": [
          0,
          0.45
         ]
        },
        "xaxis2": {
         "anchor": "y2",
         "domain": [
          0.55,
          1
         ]
        },
        "yaxis": {
         "anchor": "x",
         "domain": [
          0,
          1
         ]
        },
        "yaxis2": {
         "anchor": "x2",
         "domain": [
          0,
          1
         ]
        }
       }
      }
     },
     "metadata": {},
     "output_type": "display_data"
    }
   ],
   "source": [
    "demo_2 = prot_analysis.pKA_fitting(\n",
    "    pH_series_His.consolidated_data,\n",
    "    [164],\n",
    "    nuclei = ['H','C'],\n",
    "    model = 1,\n",
    "    # new_params={'pKa_1':{'ini':4.5,'lb':4,'ub':5},'pKa_2':{'ini':5.5,'lb':5,'ub':6}}\n",
    "    )\n",
    "demo_2.fit()\n",
    "fig = demo_2.plot(res=164,fit=True)\n",
    "fig.show()"
   ]
  },
  {
   "attachments": {},
   "cell_type": "markdown",
   "metadata": {},
   "source": [
    "### 4.3. two residues, two nuclei, two pKa \n",
    "Global fit for the residues provided by the user in which both pKa (1 or 2 depending on value indicated in model) are common.\n",
    "\"new_params\" allows to update the default parameters two disociate the 2 pKa values.  \n"
   ]
  },
  {
   "cell_type": "code",
   "execution_count": 48,
   "metadata": {},
   "outputs": [
    {
     "name": "stdout",
     "output_type": "stream",
     "text": [
      "         par  ass         opt\n",
      "0      pKa_1         4.506976\n",
      "1      pKa_2         5.600138\n",
      "2      d_low  164  138.513309\n",
      "3   d_high_1  164  138.580429\n",
      "4   d_high_2  164  137.451800\n",
      "5      d_low  164    7.962620\n",
      "6   d_high_1  164    7.929154\n",
      "7   d_high_2  164    7.516848\n",
      "8      d_low  242  137.873522\n",
      "9   d_high_1  242  135.455958\n",
      "10  d_high_2  242  137.309237\n",
      "11     d_low  242    7.803199\n",
      "12  d_high_1  242    8.333938\n",
      "13  d_high_2  242    7.857927\n"
     ]
    },
    {
     "data": {
      "application/vnd.plotly.v1+json": {
       "config": {
        "plotlyServerURL": "https://plot.ly"
       },
       "data": [
        {
         "marker": {
          "color": "#EF553B"
         },
         "mode": "markers",
         "type": "scatter",
         "x": [
          3.5,
          4,
          4.5,
          5,
          5.5,
          6,
          7,
          8
         ],
         "xaxis": "x",
         "y": [
          7.495,
          7.495,
          7.532,
          7.604,
          7.712,
          7.826,
          7.944,
          7.967
         ],
         "yaxis": "y"
        },
        {
         "marker": {
          "color": "#EF553B"
         },
         "mode": "lines",
         "name": "best fit",
         "type": "scatter",
         "x": [
          3.3,
          3.3494949494949493,
          3.398989898989899,
          3.4484848484848483,
          3.4979797979797977,
          3.5474747474747472,
          3.5969696969696967,
          3.646464646464646,
          3.6959595959595957,
          3.745454545454545,
          3.7949494949494946,
          3.844444444444444,
          3.8939393939393936,
          3.943434343434343,
          3.9929292929292926,
          4.042424242424242,
          4.0919191919191915,
          4.141414141414141,
          4.1909090909090905,
          4.24040404040404,
          4.289898989898989,
          4.339393939393939,
          4.388888888888888,
          4.438383838383838,
          4.487878787878787,
          4.537373737373737,
          4.586868686868686,
          4.636363636363636,
          4.685858585858585,
          4.735353535353535,
          4.784848484848484,
          4.834343434343434,
          4.883838383838383,
          4.933333333333333,
          4.982828282828282,
          5.032323232323232,
          5.081818181818181,
          5.131313131313131,
          5.18080808080808,
          5.23030303030303,
          5.279797979797979,
          5.329292929292929,
          5.378787878787879,
          5.428282828282828,
          5.477777777777778,
          5.527272727272727,
          5.576767676767677,
          5.626262626262626,
          5.675757575757576,
          5.725252525252525,
          5.774747474747475,
          5.824242424242424,
          5.873737373737374,
          5.923232323232323,
          5.972727272727273,
          6.022222222222222,
          6.071717171717172,
          6.121212121212121,
          6.170707070707071,
          6.22020202020202,
          6.2696969696969695,
          6.319191919191919,
          6.3686868686868685,
          6.418181818181818,
          6.4676767676767675,
          6.517171717171717,
          6.566666666666666,
          6.616161616161616,
          6.665656565656565,
          6.715151515151515,
          6.764646464646464,
          6.814141414141414,
          6.863636363636363,
          6.913131313131313,
          6.962626262626262,
          7.012121212121212,
          7.061616161616161,
          7.111111111111111,
          7.16060606060606,
          7.21010101010101,
          7.259595959595959,
          7.309090909090909,
          7.358585858585858,
          7.408080808080808,
          7.457575757575757,
          7.507070707070707,
          7.556565656565656,
          7.6060606060606055,
          7.655555555555555,
          7.7050505050505045,
          7.754545454545454,
          7.8040404040404034,
          7.853535353535353,
          7.903030303030302,
          7.952525252525252,
          8.002020202020201,
          8.05151515151515,
          8.1010101010101,
          8.15050505050505,
          8.2
         ],
         "xaxis": "x",
         "y": [
          7.487560651780435,
          7.4880482245044195,
          7.488590624341676,
          7.489193545687148,
          7.489863172747408,
          7.490606201468295,
          7.4914298588194805,
          7.492341918927085,
          7.493350715674836,
          7.494465151600531,
          7.495694703205112,
          7.497049423164808,
          7.498539940378084,
          7.5001774592560535,
          7.501973760123277,
          7.503941202957655,
          7.506092736863618,
          7.508441917526845,
          7.511002934323773,
          7.513790647653725,
          7.516820635363168,
          7.520109244841443,
          7.523673644569003,
          7.527531865771379,
          7.531702821643819,
          7.536206288706157,
          7.541062832608516,
          7.54629365952105,
          7.5519203744498125,
          7.557964629696389,
          7.564447650394707,
          7.571389629679128,
          7.578808993514313,
          7.586721544378011,
          7.595139503522755,
          7.604070482972762,
          7.613516430055768,
          7.623472598211399,
          7.633926606912559,
          7.644857659461995,
          7.656235988808012,
          7.668022597133624,
          7.680169343986994,
          7.692619419984498,
          7.705308219369589,
          7.718164596678322,
          7.731112463079591,
          7.744072649874305,
          7.756964943550458,
          7.769710181680482,
          7.782232293836527,
          7.79446017726921,
          7.806329312549279,
          7.817783047589123,
          7.828773506397393,
          7.839262108155149,
          7.8492197095067135,
          7.858626405759546,
          7.867471043349307,
          7.875750505826213,
          7.883468839038978,
          7.890636279091896,
          7.897268240382136,
          7.903384312067216,
          7.909007301055789,
          7.914162349215518,
          7.918876142807736,
          7.923176223740629,
          7.92709040535858,
          7.93064629021703,
          7.933870883537783,
          7.936790293613564,
          7.939429509101132,
          7.941812242668783,
          7.943960830620548,
          7.945896178708587,
          7.947637745204508,
          7.949203553302554,
          7.9506102259778535,
          7.9518730374549005,
          7.953005976411047,
          7.954021816921404,
          7.954932193932259,
          7.955747680726848,
          7.956477866423026,
          7.957131432024193,
          7.957716223941944,
          7.958239324231408,
          7.958707117038458,
          7.959125350961487,
          7.959499197188318,
          7.959833303388933,
          7.960131843434061,
          7.960398563074224,
          7.960636821758655,
          7.960849630802725,
          7.961039688129784,
          7.961209409821236,
          7.961360958709754,
          7.961496270246482
         ],
         "yaxis": "y"
        },
        {
         "marker": {
          "color": "blue"
         },
         "mode": "markers",
         "type": "scatter",
         "x": [
          3.5,
          4,
          4.5,
          5,
          5.5,
          6,
          7,
          8
         ],
         "xaxis": "x2",
         "y": [
          137.529,
          137.516,
          137.566,
          137.69,
          137.929,
          138.195,
          138.481,
          138.512
         ],
         "yaxis": "y2"
        },
        {
         "marker": {
          "color": "blue"
         },
         "mode": "lines",
         "name": "best fit",
         "type": "scatter",
         "x": [
          3.3,
          3.3494949494949493,
          3.398989898989899,
          3.4484848484848483,
          3.4979797979797977,
          3.5474747474747472,
          3.5969696969696967,
          3.646464646464646,
          3.6959595959595957,
          3.745454545454545,
          3.7949494949494946,
          3.844444444444444,
          3.8939393939393936,
          3.943434343434343,
          3.9929292929292926,
          4.042424242424242,
          4.0919191919191915,
          4.141414141414141,
          4.1909090909090905,
          4.24040404040404,
          4.289898989898989,
          4.339393939393939,
          4.388888888888888,
          4.438383838383838,
          4.487878787878787,
          4.537373737373737,
          4.586868686868686,
          4.636363636363636,
          4.685858585858585,
          4.735353535353535,
          4.784848484848484,
          4.834343434343434,
          4.883838383838383,
          4.933333333333333,
          4.982828282828282,
          5.032323232323232,
          5.081818181818181,
          5.131313131313131,
          5.18080808080808,
          5.23030303030303,
          5.279797979797979,
          5.329292929292929,
          5.378787878787879,
          5.428282828282828,
          5.477777777777778,
          5.527272727272727,
          5.576767676767677,
          5.626262626262626,
          5.675757575757576,
          5.725252525252525,
          5.774747474747475,
          5.824242424242424,
          5.873737373737374,
          5.923232323232323,
          5.972727272727273,
          6.022222222222222,
          6.071717171717172,
          6.121212121212121,
          6.170707070707071,
          6.22020202020202,
          6.2696969696969695,
          6.319191919191919,
          6.3686868686868685,
          6.418181818181818,
          6.4676767676767675,
          6.517171717171717,
          6.566666666666666,
          6.616161616161616,
          6.665656565656565,
          6.715151515151515,
          6.764646464646464,
          6.814141414141414,
          6.863636363636363,
          6.913131313131313,
          6.962626262626262,
          7.012121212121212,
          7.061616161616161,
          7.111111111111111,
          7.16060606060606,
          7.21010101010101,
          7.259595959595959,
          7.309090909090909,
          7.358585858585858,
          7.408080808080808,
          7.457575757575757,
          7.507070707070707,
          7.556565656565656,
          7.6060606060606055,
          7.655555555555555,
          7.7050505050505045,
          7.754545454545454,
          7.8040404040404034,
          7.853535353535353,
          7.903030303030302,
          7.952525252525252,
          8.002020202020201,
          8.05151515151515,
          8.1010101010101,
          8.15050505050505,
          8.2
         ],
         "xaxis": "x2",
         "y": [
          137.52028864282616,
          137.52048103538945,
          137.52070306332433,
          137.52095973359596,
          137.52125694711174,
          137.52160165460415,
          137.52200203539752,
          137.52246770063607,
          137.5230099220004,
          137.52364188612364,
          137.52437897379988,
          137.52523906162102,
          137.52624284188653,
          137.527414154523,
          137.5287803223952,
          137.5303724789004,
          137.53222587426524,
          137.53438014470373,
          137.53687952675037,
          137.53977299784427,
          137.5431143237514,
          137.5469619937301,
          137.5513790254143,
          137.55643262305819,
          137.56219367480267,
          137.5687360767341,
          137.57613587349823,
          137.5844702070634,
          137.59381606707709,
          137.6042488385839,
          137.61584064638558,
          137.62865850089906,
          137.64276225891294,
          137.65820242486797,
          137.675017834506,
          137.69323328262365,
          137.71285717911962,
          137.73387934053144,
          137.75626904498012,
          137.77997349339728,
          137.80491682537289,
          137.8309998305259,
          137.8581004735419,
          137.88607531220944,
          137.9147618344009,
          137.94398167592595,
          137.9735446127256,
          138.0032531556915,
          138.0329075226175,
          138.06231072657164,
          138.09127350822175,
          138.11961885304305,
          138.14718587107464,
          138.17383287197123,
          138.1994395343365,
          138.22390813760524,
          138.24716388941775,
          138.26915443538616,
          138.28984867751146,
          138.30923505079676,
          138.3273194154923,
          138.34412271718506,
          138.3596785518313,
          138.3740307513452,
          138.3872310808025,
          138.39933711345125,
          138.41041032657608,
          138.42051444115222,
          138.42971401180435,
          138.43807326100256,
          138.44565514245684,
          138.45252061287505,
          138.4587280880681,
          138.46433305824917,
          138.46938783774146,
          138.47394142570923,
          138.47803945657205,
          138.4817242211515,
          138.4850347421014,
          138.48800688963476,
          138.4906735258725,
          138.49306466824288,
          138.495207664224,
          138.49712737133737,
          138.49884633767508,
          138.50038497939593,
          138.5017617525734,
          138.5029933175518,
          138.50409469458344,
          138.5050794100091,
          138.50595963262145,
          138.50674630014072,
          138.50744923594692,
          138.5080772563685,
          138.5086382689365,
          138.50913936208482,
          138.50958688681922,
          138.50998653089903,
          138.5103433860788,
          138.51066200894888
         ],
         "yaxis": "y2"
        }
       ],
       "layout": {
        "template": {
         "data": {
          "bar": [
           {
            "error_x": {
             "color": "#2a3f5f"
            },
            "error_y": {
             "color": "#2a3f5f"
            },
            "marker": {
             "line": {
              "color": "#E5ECF6",
              "width": 0.5
             },
             "pattern": {
              "fillmode": "overlay",
              "size": 10,
              "solidity": 0.2
             }
            },
            "type": "bar"
           }
          ],
          "barpolar": [
           {
            "marker": {
             "line": {
              "color": "#E5ECF6",
              "width": 0.5
             },
             "pattern": {
              "fillmode": "overlay",
              "size": 10,
              "solidity": 0.2
             }
            },
            "type": "barpolar"
           }
          ],
          "carpet": [
           {
            "aaxis": {
             "endlinecolor": "#2a3f5f",
             "gridcolor": "white",
             "linecolor": "white",
             "minorgridcolor": "white",
             "startlinecolor": "#2a3f5f"
            },
            "baxis": {
             "endlinecolor": "#2a3f5f",
             "gridcolor": "white",
             "linecolor": "white",
             "minorgridcolor": "white",
             "startlinecolor": "#2a3f5f"
            },
            "type": "carpet"
           }
          ],
          "choropleth": [
           {
            "colorbar": {
             "outlinewidth": 0,
             "ticks": ""
            },
            "type": "choropleth"
           }
          ],
          "contour": [
           {
            "colorbar": {
             "outlinewidth": 0,
             "ticks": ""
            },
            "colorscale": [
             [
              0,
              "#0d0887"
             ],
             [
              0.1111111111111111,
              "#46039f"
             ],
             [
              0.2222222222222222,
              "#7201a8"
             ],
             [
              0.3333333333333333,
              "#9c179e"
             ],
             [
              0.4444444444444444,
              "#bd3786"
             ],
             [
              0.5555555555555556,
              "#d8576b"
             ],
             [
              0.6666666666666666,
              "#ed7953"
             ],
             [
              0.7777777777777778,
              "#fb9f3a"
             ],
             [
              0.8888888888888888,
              "#fdca26"
             ],
             [
              1,
              "#f0f921"
             ]
            ],
            "type": "contour"
           }
          ],
          "contourcarpet": [
           {
            "colorbar": {
             "outlinewidth": 0,
             "ticks": ""
            },
            "type": "contourcarpet"
           }
          ],
          "heatmap": [
           {
            "colorbar": {
             "outlinewidth": 0,
             "ticks": ""
            },
            "colorscale": [
             [
              0,
              "#0d0887"
             ],
             [
              0.1111111111111111,
              "#46039f"
             ],
             [
              0.2222222222222222,
              "#7201a8"
             ],
             [
              0.3333333333333333,
              "#9c179e"
             ],
             [
              0.4444444444444444,
              "#bd3786"
             ],
             [
              0.5555555555555556,
              "#d8576b"
             ],
             [
              0.6666666666666666,
              "#ed7953"
             ],
             [
              0.7777777777777778,
              "#fb9f3a"
             ],
             [
              0.8888888888888888,
              "#fdca26"
             ],
             [
              1,
              "#f0f921"
             ]
            ],
            "type": "heatmap"
           }
          ],
          "heatmapgl": [
           {
            "colorbar": {
             "outlinewidth": 0,
             "ticks": ""
            },
            "colorscale": [
             [
              0,
              "#0d0887"
             ],
             [
              0.1111111111111111,
              "#46039f"
             ],
             [
              0.2222222222222222,
              "#7201a8"
             ],
             [
              0.3333333333333333,
              "#9c179e"
             ],
             [
              0.4444444444444444,
              "#bd3786"
             ],
             [
              0.5555555555555556,
              "#d8576b"
             ],
             [
              0.6666666666666666,
              "#ed7953"
             ],
             [
              0.7777777777777778,
              "#fb9f3a"
             ],
             [
              0.8888888888888888,
              "#fdca26"
             ],
             [
              1,
              "#f0f921"
             ]
            ],
            "type": "heatmapgl"
           }
          ],
          "histogram": [
           {
            "marker": {
             "pattern": {
              "fillmode": "overlay",
              "size": 10,
              "solidity": 0.2
             }
            },
            "type": "histogram"
           }
          ],
          "histogram2d": [
           {
            "colorbar": {
             "outlinewidth": 0,
             "ticks": ""
            },
            "colorscale": [
             [
              0,
              "#0d0887"
             ],
             [
              0.1111111111111111,
              "#46039f"
             ],
             [
              0.2222222222222222,
              "#7201a8"
             ],
             [
              0.3333333333333333,
              "#9c179e"
             ],
             [
              0.4444444444444444,
              "#bd3786"
             ],
             [
              0.5555555555555556,
              "#d8576b"
             ],
             [
              0.6666666666666666,
              "#ed7953"
             ],
             [
              0.7777777777777778,
              "#fb9f3a"
             ],
             [
              0.8888888888888888,
              "#fdca26"
             ],
             [
              1,
              "#f0f921"
             ]
            ],
            "type": "histogram2d"
           }
          ],
          "histogram2dcontour": [
           {
            "colorbar": {
             "outlinewidth": 0,
             "ticks": ""
            },
            "colorscale": [
             [
              0,
              "#0d0887"
             ],
             [
              0.1111111111111111,
              "#46039f"
             ],
             [
              0.2222222222222222,
              "#7201a8"
             ],
             [
              0.3333333333333333,
              "#9c179e"
             ],
             [
              0.4444444444444444,
              "#bd3786"
             ],
             [
              0.5555555555555556,
              "#d8576b"
             ],
             [
              0.6666666666666666,
              "#ed7953"
             ],
             [
              0.7777777777777778,
              "#fb9f3a"
             ],
             [
              0.8888888888888888,
              "#fdca26"
             ],
             [
              1,
              "#f0f921"
             ]
            ],
            "type": "histogram2dcontour"
           }
          ],
          "mesh3d": [
           {
            "colorbar": {
             "outlinewidth": 0,
             "ticks": ""
            },
            "type": "mesh3d"
           }
          ],
          "parcoords": [
           {
            "line": {
             "colorbar": {
              "outlinewidth": 0,
              "ticks": ""
             }
            },
            "type": "parcoords"
           }
          ],
          "pie": [
           {
            "automargin": true,
            "type": "pie"
           }
          ],
          "scatter": [
           {
            "fillpattern": {
             "fillmode": "overlay",
             "size": 10,
             "solidity": 0.2
            },
            "type": "scatter"
           }
          ],
          "scatter3d": [
           {
            "line": {
             "colorbar": {
              "outlinewidth": 0,
              "ticks": ""
             }
            },
            "marker": {
             "colorbar": {
              "outlinewidth": 0,
              "ticks": ""
             }
            },
            "type": "scatter3d"
           }
          ],
          "scattercarpet": [
           {
            "marker": {
             "colorbar": {
              "outlinewidth": 0,
              "ticks": ""
             }
            },
            "type": "scattercarpet"
           }
          ],
          "scattergeo": [
           {
            "marker": {
             "colorbar": {
              "outlinewidth": 0,
              "ticks": ""
             }
            },
            "type": "scattergeo"
           }
          ],
          "scattergl": [
           {
            "marker": {
             "colorbar": {
              "outlinewidth": 0,
              "ticks": ""
             }
            },
            "type": "scattergl"
           }
          ],
          "scattermapbox": [
           {
            "marker": {
             "colorbar": {
              "outlinewidth": 0,
              "ticks": ""
             }
            },
            "type": "scattermapbox"
           }
          ],
          "scatterpolar": [
           {
            "marker": {
             "colorbar": {
              "outlinewidth": 0,
              "ticks": ""
             }
            },
            "type": "scatterpolar"
           }
          ],
          "scatterpolargl": [
           {
            "marker": {
             "colorbar": {
              "outlinewidth": 0,
              "ticks": ""
             }
            },
            "type": "scatterpolargl"
           }
          ],
          "scatterternary": [
           {
            "marker": {
             "colorbar": {
              "outlinewidth": 0,
              "ticks": ""
             }
            },
            "type": "scatterternary"
           }
          ],
          "surface": [
           {
            "colorbar": {
             "outlinewidth": 0,
             "ticks": ""
            },
            "colorscale": [
             [
              0,
              "#0d0887"
             ],
             [
              0.1111111111111111,
              "#46039f"
             ],
             [
              0.2222222222222222,
              "#7201a8"
             ],
             [
              0.3333333333333333,
              "#9c179e"
             ],
             [
              0.4444444444444444,
              "#bd3786"
             ],
             [
              0.5555555555555556,
              "#d8576b"
             ],
             [
              0.6666666666666666,
              "#ed7953"
             ],
             [
              0.7777777777777778,
              "#fb9f3a"
             ],
             [
              0.8888888888888888,
              "#fdca26"
             ],
             [
              1,
              "#f0f921"
             ]
            ],
            "type": "surface"
           }
          ],
          "table": [
           {
            "cells": {
             "fill": {
              "color": "#EBF0F8"
             },
             "line": {
              "color": "white"
             }
            },
            "header": {
             "fill": {
              "color": "#C8D4E3"
             },
             "line": {
              "color": "white"
             }
            },
            "type": "table"
           }
          ]
         },
         "layout": {
          "annotationdefaults": {
           "arrowcolor": "#2a3f5f",
           "arrowhead": 0,
           "arrowwidth": 1
          },
          "autotypenumbers": "strict",
          "coloraxis": {
           "colorbar": {
            "outlinewidth": 0,
            "ticks": ""
           }
          },
          "colorscale": {
           "diverging": [
            [
             0,
             "#8e0152"
            ],
            [
             0.1,
             "#c51b7d"
            ],
            [
             0.2,
             "#de77ae"
            ],
            [
             0.3,
             "#f1b6da"
            ],
            [
             0.4,
             "#fde0ef"
            ],
            [
             0.5,
             "#f7f7f7"
            ],
            [
             0.6,
             "#e6f5d0"
            ],
            [
             0.7,
             "#b8e186"
            ],
            [
             0.8,
             "#7fbc41"
            ],
            [
             0.9,
             "#4d9221"
            ],
            [
             1,
             "#276419"
            ]
           ],
           "sequential": [
            [
             0,
             "#0d0887"
            ],
            [
             0.1111111111111111,
             "#46039f"
            ],
            [
             0.2222222222222222,
             "#7201a8"
            ],
            [
             0.3333333333333333,
             "#9c179e"
            ],
            [
             0.4444444444444444,
             "#bd3786"
            ],
            [
             0.5555555555555556,
             "#d8576b"
            ],
            [
             0.6666666666666666,
             "#ed7953"
            ],
            [
             0.7777777777777778,
             "#fb9f3a"
            ],
            [
             0.8888888888888888,
             "#fdca26"
            ],
            [
             1,
             "#f0f921"
            ]
           ],
           "sequentialminus": [
            [
             0,
             "#0d0887"
            ],
            [
             0.1111111111111111,
             "#46039f"
            ],
            [
             0.2222222222222222,
             "#7201a8"
            ],
            [
             0.3333333333333333,
             "#9c179e"
            ],
            [
             0.4444444444444444,
             "#bd3786"
            ],
            [
             0.5555555555555556,
             "#d8576b"
            ],
            [
             0.6666666666666666,
             "#ed7953"
            ],
            [
             0.7777777777777778,
             "#fb9f3a"
            ],
            [
             0.8888888888888888,
             "#fdca26"
            ],
            [
             1,
             "#f0f921"
            ]
           ]
          },
          "colorway": [
           "#636efa",
           "#EF553B",
           "#00cc96",
           "#ab63fa",
           "#FFA15A",
           "#19d3f3",
           "#FF6692",
           "#B6E880",
           "#FF97FF",
           "#FECB52"
          ],
          "font": {
           "color": "#2a3f5f"
          },
          "geo": {
           "bgcolor": "white",
           "lakecolor": "white",
           "landcolor": "#E5ECF6",
           "showlakes": true,
           "showland": true,
           "subunitcolor": "white"
          },
          "hoverlabel": {
           "align": "left"
          },
          "hovermode": "closest",
          "mapbox": {
           "style": "light"
          },
          "paper_bgcolor": "white",
          "plot_bgcolor": "#E5ECF6",
          "polar": {
           "angularaxis": {
            "gridcolor": "white",
            "linecolor": "white",
            "ticks": ""
           },
           "bgcolor": "#E5ECF6",
           "radialaxis": {
            "gridcolor": "white",
            "linecolor": "white",
            "ticks": ""
           }
          },
          "scene": {
           "xaxis": {
            "backgroundcolor": "#E5ECF6",
            "gridcolor": "white",
            "gridwidth": 2,
            "linecolor": "white",
            "showbackground": true,
            "ticks": "",
            "zerolinecolor": "white"
           },
           "yaxis": {
            "backgroundcolor": "#E5ECF6",
            "gridcolor": "white",
            "gridwidth": 2,
            "linecolor": "white",
            "showbackground": true,
            "ticks": "",
            "zerolinecolor": "white"
           },
           "zaxis": {
            "backgroundcolor": "#E5ECF6",
            "gridcolor": "white",
            "gridwidth": 2,
            "linecolor": "white",
            "showbackground": true,
            "ticks": "",
            "zerolinecolor": "white"
           }
          },
          "shapedefaults": {
           "line": {
            "color": "#2a3f5f"
           }
          },
          "ternary": {
           "aaxis": {
            "gridcolor": "white",
            "linecolor": "white",
            "ticks": ""
           },
           "baxis": {
            "gridcolor": "white",
            "linecolor": "white",
            "ticks": ""
           },
           "bgcolor": "#E5ECF6",
           "caxis": {
            "gridcolor": "white",
            "linecolor": "white",
            "ticks": ""
           }
          },
          "title": {
           "x": 0.05
          },
          "xaxis": {
           "automargin": true,
           "gridcolor": "white",
           "linecolor": "white",
           "ticks": "",
           "title": {
            "standoff": 15
           },
           "zerolinecolor": "white",
           "zerolinewidth": 2
          },
          "yaxis": {
           "automargin": true,
           "gridcolor": "white",
           "linecolor": "white",
           "ticks": "",
           "title": {
            "standoff": 15
           },
           "zerolinecolor": "white",
           "zerolinewidth": 2
          }
         }
        },
        "xaxis": {
         "anchor": "y",
         "domain": [
          0,
          0.45
         ]
        },
        "xaxis2": {
         "anchor": "y2",
         "domain": [
          0.55,
          1
         ]
        },
        "yaxis": {
         "anchor": "x",
         "domain": [
          0,
          1
         ]
        },
        "yaxis2": {
         "anchor": "x2",
         "domain": [
          0,
          1
         ]
        }
       }
      }
     },
     "metadata": {},
     "output_type": "display_data"
    }
   ],
   "source": [
    "demo_3 = prot_analysis.pKA_fitting(\n",
    "    pH_series_His.consolidated_data,\n",
    "    [164,242],\n",
    "    nuclei = ['H','C'],\n",
    "    model = 2,\n",
    "    new_params={'pKa_1':{'ini':4.5,'lb':4,'ub':5},'pKa_2':{'ini':5.5,'lb':5,'ub':6}}\n",
    "    )\n",
    "demo_3.fit()\n",
    "print(demo_3.params[['par','ass','opt']])\n",
    "fig = demo_3.plot(res=164,fit=True)\n",
    "fig.show()"
   ]
  }
 ],
 "metadata": {
  "kernelspec": {
   "display_name": "base",
   "language": "python",
   "name": "python3"
  },
  "language_info": {
   "codemirror_mode": {
    "name": "ipython",
    "version": 3
   },
   "file_extension": ".py",
   "mimetype": "text/x-python",
   "name": "python",
   "nbconvert_exporter": "python",
   "pygments_lexer": "ipython3",
   "version": "3.9.13 (main, Aug 25 2022, 18:29:29) \n[Clang 12.0.0 ]"
  },
  "orig_nbformat": 4,
  "vscode": {
   "interpreter": {
    "hash": "8b8fda39662c8195d5a51020ffb630e7e2a4abcd5e34bcc9b054337fa68836c7"
   }
  }
 },
 "nbformat": 4,
 "nbformat_minor": 2
}
