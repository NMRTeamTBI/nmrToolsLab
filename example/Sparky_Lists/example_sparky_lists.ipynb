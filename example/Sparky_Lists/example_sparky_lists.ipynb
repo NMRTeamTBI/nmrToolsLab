{
 "cells": [
  {
   "attachments": {},
   "cell_type": "markdown",
   "metadata": {},
   "source": [
    "# Usage of nmrToolsLab package to work with Sparky peak Lists"
   ]
  },
  {
   "attachments": {},
   "cell_type": "markdown",
   "metadata": {},
   "source": [
    "## 1. General Information\n",
    "This notebook showcases the use of the nmrToolsLab tool to analyze a peak List issued from Sparky.\n",
    "The NMR data have first been treated with Sparky and peak list have been extracted\n",
    "\n",
    "Example 1: Load multiple List to track intensity as function of time\n"
   ]
  },
  {
   "attachments": {},
   "cell_type": "markdown",
   "metadata": {},
   "source": [
    "## 2. Prepare Script\n",
    "Load prot_analysis."
   ]
  },
  {
   "cell_type": "code",
   "execution_count": 1,
   "metadata": {},
   "outputs": [],
   "source": [
    "import matplotlib.pyplot as plt\n",
    "import nmrtoolslab.prot_analysis as prot_analysis"
   ]
  },
  {
   "attachments": {},
   "cell_type": "markdown",
   "metadata": {},
   "source": [
    "## 3. Examples\n",
    "### 3.1 Load mutiple peak lists to plot intensity as function of time\n",
    "Provide all imput data (peak lists) in a dictionnary format."
   ]
  },
  {
   "cell_type": "code",
   "execution_count": 2,
   "metadata": {},
   "outputs": [],
   "source": [
    "dict_example_1 = {\n",
    "    \"list_105\":{\"path\":'/Users/cyrilcharlier/Documents/Research/Code/git/nmrToolsLab/nmrToolsLab/nmrToolsLab/example/Sparky_Lists/Data/', \"exp\":'Matrixfile105-2rr',  \"peak_label\": 'N-H', \"time\" : 1, \"color\": \"dodgerblue\"},\n",
    "    \"list_107\":{\"path\":'/Users/cyrilcharlier/Documents/Research/Code/git/nmrToolsLab/nmrToolsLab/nmrToolsLab/example/Sparky_Lists/Data/', \"exp\":'Matrixfile107-2rr',  \"peak_label\": 'N-H', \"time\" : 2, \"color\": \"blue\"},\n",
    "    \"list_109\":{\"path\":'/Users/cyrilcharlier/Documents/Research/Code/git/nmrToolsLab/nmrToolsLab/nmrToolsLab/example/Sparky_Lists/Data/', \"exp\":'Matrixfile107-2rr',  \"peak_label\": 'N-H', \"time\" : 3, \"color\": \"blue\"},\n",
    "    \"list_111\":{\"path\":'/Users/cyrilcharlier/Documents/Research/Code/git/nmrToolsLab/nmrToolsLab/nmrToolsLab/example/Sparky_Lists/Data/', \"exp\":'Matrixfile107-2rr',  \"peak_label\": 'N-H', \"time\" : 4, \"color\": \"blue\"},\n",
    "    \"list_113\":{\"path\":'/Users/cyrilcharlier/Documents/Research/Code/git/nmrToolsLab/nmrToolsLab/nmrToolsLab/example/Sparky_Lists/Data/', \"exp\":'Matrixfile107-2rr',  \"peak_label\": 'N-H', \"time\" : 5, \"color\": \"blue\"},\n",
    "    \"list_115\":{\"path\":'/Users/cyrilcharlier/Documents/Research/Code/git/nmrToolsLab/nmrToolsLab/nmrToolsLab/example/Sparky_Lists/Data/', \"exp\":'Matrixfile107-2rr',  \"peak_label\": 'N-H', \"time\" : 6, \"color\": \"blue\"},\n",
    "    \"list_117\":{\"path\":'/Users/cyrilcharlier/Documents/Research/Code/git/nmrToolsLab/nmrToolsLab/nmrToolsLab/example/Sparky_Lists/Data/', \"exp\":'Matrixfile107-2rr',  \"peak_label\": 'N-H', \"time\" : 7, \"color\": \"blue\"},\n",
    "    \"list_119\":{\"path\":'/Users/cyrilcharlier/Documents/Research/Code/git/nmrToolsLab/nmrToolsLab/nmrToolsLab/example/Sparky_Lists/Data/', \"exp\":'Matrixfile107-2rr',  \"peak_label\": 'N-H', \"time\" : 8, \"color\": \"blue\"},\n",
    "    }"
   ]
  },
  {
   "attachments": {},
   "cell_type": "markdown",
   "metadata": {},
   "source": [
    "Load imput data "
   ]
  },
  {
   "cell_type": "code",
   "execution_count": 3,
   "metadata": {},
   "outputs": [],
   "source": [
    "time_series_NH = prot_analysis.data_consolidation(\n",
    "    dict_example_1,\n",
    "    '2D',\n",
    "    'time')"
   ]
  },
  {
   "attachments": {},
   "cell_type": "markdown",
   "metadata": {},
   "source": [
    "Look at the consolidated data"
   ]
  },
  {
   "cell_type": "code",
   "execution_count": 4,
   "metadata": {},
   "outputs": [
    {
     "name": "stdout",
     "output_type": "stream",
     "text": [
      "     ass  time  Height res_type\n",
      "0     46     1    4913        T\n",
      "1     49     1    7700        A\n",
      "2     49     2    7476        A\n",
      "3     49     3    7476        A\n",
      "4     49     4    7476        A\n",
      "..   ...   ...     ...      ...\n",
      "716  286     5   20473        R\n",
      "717  286     6   20473        R\n",
      "718  286     7   20473        R\n",
      "719  286     8   20473        R\n",
      "720  287     1    5254        T\n",
      "\n",
      "[721 rows x 4 columns]\n"
     ]
    }
   ],
   "source": [
    "All_Data = time_series_NH.consolidated_data\n",
    "print(All_Data)"
   ]
  },
  {
   "attachments": {},
   "cell_type": "markdown",
   "metadata": {},
   "source": [
    "Data Selection for a single residue"
   ]
  },
  {
   "cell_type": "code",
   "execution_count": 6,
   "metadata": {},
   "outputs": [
    {
     "name": "stdout",
     "output_type": "stream",
     "text": [
      "1    7700\n",
      "2    7476\n",
      "3    7476\n",
      "4    7476\n",
      "5    7476\n",
      "6    7476\n",
      "7    7476\n",
      "8    7476\n",
      "Name: Height, dtype: int64\n"
     ]
    },
    {
     "data": {
      "text/plain": [
       "[<matplotlib.lines.Line2D at 0x7fec58012190>]"
      ]
     },
     "execution_count": 6,
     "metadata": {},
     "output_type": "execute_result"
    },
    {
     "data": {
      "image/png": "[encoded data removed]",
      "text/plain": [
       "<Figure size 640x480 with 1 Axes>"
      ]
     },
     "metadata": {},
     "output_type": "display_data"
    }
   ],
   "source": [
    "\n",
    "data_sel = All_Data[All_Data.ass==49]\n",
    "plt.plot(data_sel.time,data_sel.Height/data_sel.Height.iloc[0],ls='none',marker='o',color='blue')#\n",
    "# # plt.ylim(0,1)\n",
    "# plt.show()\n"
   ]
  },
  {
   "cell_type": "code",
   "execution_count": null,
   "metadata": {},
   "outputs": [],
   "source": []
  }
 ],
 "metadata": {
  "kernelspec": {
   "display_name": "base",
   "language": "python",
   "name": "python3"
  },
  "language_info": {
   "codemirror_mode": {
    "name": "ipython",
    "version": 3
   },
   "file_extension": ".py",
   "mimetype": "text/x-python",
   "name": "python",
   "nbconvert_exporter": "python",
   "pygments_lexer": "ipython3",
   "version": "3.9.13"
  },
  "orig_nbformat": 4,
  "vscode": {
   "interpreter": {
    "hash": "8b8fda39662c8195d5a51020ffb630e7e2a4abcd5e34bcc9b054337fa68836c7"
   }
  }
 },
 "nbformat": 4,
 "nbformat_minor": 2
}
