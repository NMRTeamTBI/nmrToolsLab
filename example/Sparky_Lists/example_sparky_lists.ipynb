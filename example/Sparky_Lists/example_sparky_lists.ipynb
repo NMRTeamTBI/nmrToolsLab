{
 "cells": [
  {
   "attachments": {},
   "cell_type": "markdown",
   "metadata": {},
   "source": [
    "# Usage of nmrToolsLab package to work with Sparky peak Lists"
   ]
  },
  {
   "attachments": {},
   "cell_type": "markdown",
   "metadata": {},
   "source": [
    "## 1. General Information\n",
    "This notebook showcases the use of the nmrToolsLab tool to analyze a peak List issued from Sparky.\n",
    "The NMR data have first been treated with Sparky and peak list have been extracted\n",
    "\n",
    "Example 1: Load multiple List to track intensity as function of time\n"
   ]
  },
  {
   "attachments": {},
   "cell_type": "markdown",
   "metadata": {},
   "source": [
    "## 2. Prepare Script\n",
    "Load prot_analysis."
   ]
  },
  {
   "cell_type": "code",
   "execution_count": 1,
   "metadata": {},
   "outputs": [],
   "source": [
    "import nmrtoolslab.prot_analysis as prot_analysis"
   ]
  },
  {
   "attachments": {},
   "cell_type": "markdown",
   "metadata": {},
   "source": [
    "## 3. Examples\n",
    "### 3.1 Load mutiple peak lists to plot intensity as function of time\n",
    "Provide all imput data (peak lists) in a dictionnary format."
   ]
  },
  {
   "cell_type": "code",
   "execution_count": 2,
   "metadata": {},
   "outputs": [],
   "source": [
    "dict_example_1 = {\n",
    "    \"list_105\":{\"path\":'./Data', \"exp\":'Matrixfile105-2rr',  \"peak_label\": 'N-H', \"time\" : 1, \"color\": \"dodgerblue\"},\n",
    "    \"list_107\":{\"path\":'./Data', \"exp\":'Matrixfile107-2rr',  \"peak_label\": 'N-H', \"time\" : 2, \"color\": \"blue\"},\n",
    "    }"
   ]
  },
  {
   "attachments": {},
   "cell_type": "markdown",
   "metadata": {},
   "source": [
    "Load imput data "
   ]
  },
  {
   "cell_type": "code",
   "execution_count": 3,
   "metadata": {},
   "outputs": [],
   "source": [
    "time_series_NH = prot_analysis.data_consolidation(\n",
    "    dict_example_1,\n",
    "    '2D',\n",
    "    'time')"
   ]
  },
  {
   "attachments": {},
   "cell_type": "markdown",
   "metadata": {},
   "source": [
    "Look at the consolidated data"
   ]
  },
  {
   "cell_type": "code",
   "execution_count": 4,
   "metadata": {},
   "outputs": [
    {
     "name": "stdout",
     "output_type": "stream",
     "text": [
      "     ass  time Height  res_type\n",
      "0     46     1      T      4913\n",
      "1     49     1      A      7700\n",
      "2     49     2      A      7476\n",
      "3     50     1      L     10613\n",
      "4     53     1      D      5274\n",
      "..   ...   ...    ...       ...\n",
      "194  283     1      C     11581\n",
      "195  283     2      C      6913\n",
      "196  286     1      R     18251\n",
      "197  286     2      R     20473\n",
      "198  287     1      T      5254\n",
      "\n",
      "[199 rows x 4 columns]\n"
     ]
    }
   ],
   "source": [
    "print(time_series_NH.consolidated_data)"
   ]
  }
 ],
 "metadata": {
  "kernelspec": {
   "display_name": "base",
   "language": "python",
   "name": "python3"
  },
  "language_info": {
   "codemirror_mode": {
    "name": "ipython",
    "version": 3
   },
   "file_extension": ".py",
   "mimetype": "text/x-python",
   "name": "python",
   "nbconvert_exporter": "python",
   "pygments_lexer": "ipython3",
   "version": "3.9.13"
  },
  "orig_nbformat": 4,
  "vscode": {
   "interpreter": {
    "hash": "8b8fda39662c8195d5a51020ffb630e7e2a4abcd5e34bcc9b054337fa68836c7"
   }
  }
 },
 "nbformat": 4,
 "nbformat_minor": 2
}
